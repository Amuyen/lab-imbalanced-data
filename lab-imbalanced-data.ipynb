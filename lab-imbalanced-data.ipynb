{
 "cells": [
  {
   "cell_type": "code",
   "execution_count": 160,
   "metadata": {},
   "outputs": [],
   "source": [
    "import numpy as np\n",
    "import pandas as pd\n",
    "from sklearn.model_selection import train_test_split\n",
    "from sklearn.linear_model import LogisticRegression\n",
    "from sklearn.metrics import cohen_kappa_score ,accuracy_score, precision_score, recall_score, f1_score, accuracy_score\n",
    "from sklearn.preprocessing import StandardScaler\n",
    "\n"
   ]
  },
  {
   "cell_type": "code",
   "execution_count": 161,
   "metadata": {},
   "outputs": [],
   "source": [
    "data=pd.read_csv('files_for_lab/customer_churn.csv')"
   ]
  },
  {
   "cell_type": "code",
   "execution_count": 162,
   "metadata": {},
   "outputs": [
    {
     "name": "stdout",
     "output_type": "stream",
     "text": [
      "<class 'pandas.core.frame.DataFrame'>\n",
      "RangeIndex: 7043 entries, 0 to 7042\n",
      "Data columns (total 21 columns):\n",
      " #   Column            Non-Null Count  Dtype  \n",
      "---  ------            --------------  -----  \n",
      " 0   customerID        7043 non-null   object \n",
      " 1   gender            7043 non-null   object \n",
      " 2   SeniorCitizen     7043 non-null   int64  \n",
      " 3   Partner           7043 non-null   object \n",
      " 4   Dependents        7043 non-null   object \n",
      " 5   tenure            7043 non-null   int64  \n",
      " 6   PhoneService      7043 non-null   object \n",
      " 7   MultipleLines     7043 non-null   object \n",
      " 8   InternetService   7043 non-null   object \n",
      " 9   OnlineSecurity    7043 non-null   object \n",
      " 10  OnlineBackup      7043 non-null   object \n",
      " 11  DeviceProtection  7043 non-null   object \n",
      " 12  TechSupport       7043 non-null   object \n",
      " 13  StreamingTV       7043 non-null   object \n",
      " 14  StreamingMovies   7043 non-null   object \n",
      " 15  Contract          7043 non-null   object \n",
      " 16  PaperlessBilling  7043 non-null   object \n",
      " 17  PaymentMethod     7043 non-null   object \n",
      " 18  MonthlyCharges    7043 non-null   float64\n",
      " 19  TotalCharges      7043 non-null   object \n",
      " 20  Churn             7043 non-null   object \n",
      "dtypes: float64(1), int64(2), object(18)\n",
      "memory usage: 1.1+ MB\n"
     ]
    }
   ],
   "source": [
    "data.info()"
   ]
  },
  {
   "cell_type": "code",
   "execution_count": 163,
   "metadata": {},
   "outputs": [],
   "source": [
    "X=data._get_numeric_data()\n",
    "y=data.Churn"
   ]
  },
  {
   "cell_type": "code",
   "execution_count": 164,
   "metadata": {},
   "outputs": [
    {
     "name": "stdout",
     "output_type": "stream",
     "text": [
      "[0 1]\n",
      "[ 1 34  2 45  8 22 10 28 62 13 16 58 49 25 69 52 71 21 12 30 47 72 17 27\n",
      "  5 46 11 70 63 43 15 60 18 66  9  3 31 50 64 56  7 42 35 48 29 65 38 68\n",
      " 32 55 37 36 41  6  4 33 67 23 57 61 14 20 53 40 59 24 44 19 54 51 26  0\n",
      " 39]\n",
      "[29.85 56.95 53.85 ... 63.1  44.2  78.7 ]\n"
     ]
    }
   ],
   "source": [
    "for i in X.columns:\n",
    "    print(data[i].unique())"
   ]
  },
  {
   "cell_type": "code",
   "execution_count": 171,
   "metadata": {},
   "outputs": [
    {
     "data": {
      "text/plain": [
       "No     0.73463\n",
       "Yes    0.26537\n",
       "Name: Churn, dtype: float64"
      ]
     },
     "execution_count": 171,
     "metadata": {},
     "output_type": "execute_result"
    }
   ],
   "source": [
    "y.value_counts()/len(y)"
   ]
  },
  {
   "cell_type": "code",
   "execution_count": 166,
   "metadata": {},
   "outputs": [],
   "source": [
    "X_train,X_test,y_train,y_test=train_test_split(X,y,random_state=42)"
   ]
  },
  {
   "cell_type": "code",
   "execution_count": 167,
   "metadata": {},
   "outputs": [],
   "source": [
    "scaled=StandardScaler().fit(X_train,y_train)\n",
    "scaled_train=scaled.transform(X_train)\n",
    "scaled_test=scaled.transform(X_test)"
   ]
  },
  {
   "cell_type": "code",
   "execution_count": 168,
   "metadata": {},
   "outputs": [],
   "source": [
    "LR=LogisticRegression(solver='lbfgs').fit(X_train,y_train)\n",
    "predictions_train=LR.predict(X_train)\n",
    "predictions_test=LR.predict(X_test)\n"
   ]
  },
  {
   "cell_type": "code",
   "execution_count": 170,
   "metadata": {},
   "outputs": [
    {
     "name": "stdout",
     "output_type": "stream",
     "text": [
      "cohen_kappa_score is 0.39472482301895406\n",
      "cohen_kappa_score is 0.42942662009508414\n",
      "accuracy_score is 0.7887163953048087\n",
      "accuracy_score is 0.7984099943214082\n",
      "precision_score is 0.6430062630480167\n",
      "precision_score is 0.697452229299363\n",
      "recall_score is 0.44316546762589926\n",
      "recall_score is 0.4572025052192067\n",
      "f1_score is 0.5247018739352641\n",
      "f1_score is 0.5523329129886506\n"
     ]
    }
   ],
   "source": [
    "for i  in ['cohen_kappa_score' ,'accuracy_score', 'precision_score','recall_score','f1_score']:\n",
    "    if i in ['cohen_kappa_score' ,'accuracy_score'] :\n",
    "        print(i,'is',eval(i + '(y_train,predictions_train)'))\n",
    "        print(i,'is',eval(i + '(y_test,predictions_test)'))\n",
    "    else:\n",
    "        print(i,'is',eval(i + '''(y_train,predictions_train,pos_label='Yes')'''))\n",
    "        print(i,'is',eval(i + '''(y_test,predictions_test,pos_label='Yes')'''))"
   ]
  },
  {
   "attachments": {},
   "cell_type": "markdown",
   "metadata": {},
   "source": [
    "There is > 70% accuracy because of the class imbalance which is 74% of the times 'No'"
   ]
  },
  {
   "cell_type": "code",
   "execution_count": 129,
   "metadata": {},
   "outputs": [],
   "source": [
    "from imblearn.over_sampling import SMOTE"
   ]
  },
  {
   "cell_type": "code",
   "execution_count": 130,
   "metadata": {},
   "outputs": [],
   "source": [
    "sm= SMOTE(random_state=42)\n",
    "oversampled=sm.fit_resample(X,y)\n",
    "\n",
    "oversampled_X,oversampled_y=oversampled[0],oversampled[1]"
   ]
  },
  {
   "cell_type": "code",
   "execution_count": 131,
   "metadata": {},
   "outputs": [
    {
     "data": {
      "text/plain": [
       "(10348,)"
      ]
     },
     "execution_count": 131,
     "metadata": {},
     "output_type": "execute_result"
    }
   ],
   "source": [
    "oversampled_y.shape"
   ]
  },
  {
   "cell_type": "code",
   "execution_count": 113,
   "metadata": {},
   "outputs": [],
   "source": [
    "X_train_sm,X_test_sm,y_train_sm,y_test_sm=train_test_split(oversampled_X,oversampled_y)"
   ]
  },
  {
   "cell_type": "code",
   "execution_count": 132,
   "metadata": {},
   "outputs": [],
   "source": [
    "scaled_sm=StandardScaler().fit(X_train_sm,y_train_sm)\n",
    "scaled_train_sm=scaled_sm.transform(X_train_sm)\n",
    "scaled_test_sm=scaled_sm.transform(X_test_sm)"
   ]
  },
  {
   "cell_type": "code",
   "execution_count": 135,
   "metadata": {},
   "outputs": [],
   "source": [
    "LR_sm=LogisticRegression(solver='lbfgs').fit(X_train_sm,y_train_sm)\n",
    "predictions_sm_test=LR_sm.predict(X_test_sm)\n",
    "predictions_sm_train=LR_sm.predict(X_train_sm)"
   ]
  },
  {
   "cell_type": "code",
   "execution_count": 136,
   "metadata": {},
   "outputs": [
    {
     "name": "stdout",
     "output_type": "stream",
     "text": [
      "cohen_kappa_score in train set is 0.40865183650381287\n",
      "cohen_kappa_score in test set is 0.412460619585193\n",
      "cohen_kappa_score in train set after SMOTE is 0.4482583379269466\n",
      "cohen_kappa_score in test set after SMOTE is 0.476450262597082\n",
      "accuracy_score in train set is 0.7909882620219614\n",
      "accuracy_score in test set is 0.7921635434412265\n",
      "accuracy_score in train set after SMOTE is 0.7241334879525835\n",
      "accuracy_score in test set after SMOTE is 0.7383069192114419\n",
      "precision_score in train set is 0.6524822695035462\n",
      "precision_score in test set is 0.6458333333333334\n",
      "precision_score in train set after SMOTE is 0.7221504264667873\n",
      "precision_score in test set after SMOTE is 0.7414708112206216\n",
      "recall_score in train set is 0.4583629893238434\n",
      "recall_score in test set is 0.4676724137931034\n",
      "recall_score in train set after SMOTE is 0.7238341968911917\n",
      "recall_score in test set after SMOTE is 0.7442922374429224\n",
      "f1_score in train set is 0.5384615384615384\n",
      "f1_score in test set is 0.5425\n",
      "f1_score in train set after SMOTE is 0.722991331349463\n",
      "f1_score in test set after SMOTE is 0.7428788454234713\n"
     ]
    }
   ],
   "source": [
    "for i  in ['cohen_kappa_score' ,'accuracy_score', 'precision_score','recall_score','f1_score']:\n",
    "    if i in ['cohen_kappa_score' ,'accuracy_score'] :\n",
    "        print(i,'in train set is',eval(i + '(y_train,predictions_train)'))\n",
    "        print(i,'in test set is',eval(i + '(y_test,predictions_test)'))\n",
    "        print(i,'in train set after SMOTE is',eval(i + '(y_train_sm,predictions_sm_train)'))\n",
    "        print(i,'in test set after SMOTE is',eval(i + '(y_test_sm,predictions_sm_test)'))\n",
    "    else:\n",
    "        print(i,'in train set is',eval(i + '''(y_train,predictions_train,pos_label='Yes')'''))\n",
    "        print(i,'in test set is',eval(i + '''(y_test,predictions_test,pos_label='Yes')'''))\n",
    "        print(i,'in train set after SMOTE is',eval(i + '''(y_train_sm,predictions_sm_train,pos_label='Yes')'''))\n",
    "        print(i,'in test set after SMOTE is',eval(i + '''(y_test_sm,predictions_sm_test,pos_label='Yes')'''))"
   ]
  },
  {
   "attachments": {},
   "cell_type": "markdown",
   "metadata": {},
   "source": [
    "There is a clear improvement by using SMOTE"
   ]
  }
 ],
 "metadata": {
  "kernelspec": {
   "display_name": "base",
   "language": "python",
   "name": "python3"
  },
  "language_info": {
   "codemirror_mode": {
    "name": "ipython",
    "version": 3
   },
   "file_extension": ".py",
   "mimetype": "text/x-python",
   "name": "python",
   "nbconvert_exporter": "python",
   "pygments_lexer": "ipython3",
   "version": "3.9.13"
  },
  "orig_nbformat": 4
 },
 "nbformat": 4,
 "nbformat_minor": 2
}
